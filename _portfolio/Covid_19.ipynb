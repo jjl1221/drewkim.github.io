---
title: "Covid-19 Visualization"
date: 2020-07-26
classes: wide
toc: true
categories: DataAnalysis
---


{
 "cells": [
  {
   "cell_type": "code",
   "execution_count": 2,
   "metadata": {},
   "outputs": [],
   "source": [
    "import pandas as pd\n",
    "import numpy as np\n",
    "import matplotlib.pyplot as plt\n",
    "import seaborn as sns\n",
    "from plotly.subplots import make_subplots\n",
    "import plotly.graph_objects as go\n",
    "import plotly.express as px\n",
    "import matplotlib.font_manager as fm\n",
    "import plotly.io as pio"
   ]
  },
  {
   "cell_type": "code",
   "execution_count": 3,
   "metadata": {},
   "outputs": [
    {
     "data": {
      "text/html": [
       "<style>.container { width:70% !important; }</style>"
      ],
      "text/plain": [
       "<IPython.core.display.HTML object>"
      ]
     },
     "metadata": {},
     "output_type": "display_data"
    }
   ],
   "source": [
    "#from IPython.core.display import display, HTML\n",
    "\n",
    "#display(HTML(\"<style>.container { width:70% !important; }</style>\"))"
   ]
  },
  {
   "cell_type": "code",
   "execution_count": 4,
   "metadata": {},
   "outputs": [],
   "source": [
    "%matplotlib inline"
   ]
  },
  {
   "cell_type": "code",
   "execution_count": 5,
   "metadata": {},
   "outputs": [],
   "source": [
    "plt.rcParams[\"font.family\"] = 'NanumGothic'\n",
    "plt.rcParams['font.size'] = 13"
   ]
  },
  {
   "cell_type": "markdown",
   "metadata": {},
   "source": [
    "# 1. Load Data"
   ]
  },
  {
   "cell_type": "code",
   "execution_count": 6,
   "metadata": {},
   "outputs": [],
   "source": [
    "case = pd.read_csv('case.csv')\n",
    "patientinfo = pd.read_csv('PatientInfo.csv')\n",
    "policy = pd.read_csv('Policy.csv')\n",
    "region = pd.read_csv('Region.csv')\n",
    "searchtrend = pd.read_csv('SearchTrend.csv')\n",
    "seoulfloating = pd.read_csv('SeoulFloating.csv')\n",
    "time = pd.read_csv('Time.csv')\n",
    "timeage = pd.read_csv('TimeAge.csv')\n",
    "timegender = pd.read_csv('TimeGender.csv')\n",
    "timeprovince = pd.read_csv('TimeProvince.csv')\n",
    "weather = pd.read_csv('Weather.csv')"
   ]
  },
  {
   "cell_type": "code",
   "execution_count": 7,
   "metadata": {},
   "outputs": [
    {
     "name": "stdout",
     "output_type": "stream",
     "text": [
      "(163, 7)\n"
     ]
    },
    {
     "data": {
      "text/html": [
       "<div>\n",
       "<style scoped>\n",
       "    .dataframe tbody tr th:only-of-type {\n",
       "        vertical-align: middle;\n",
       "    }\n",
       "\n",
       "    .dataframe tbody tr th {\n",
       "        vertical-align: top;\n",
       "    }\n",
       "\n",
       "    .dataframe thead th {\n",
       "        text-align: right;\n",
       "    }\n",
       "</style>\n",
       "<table border=\"1\" class=\"dataframe\">\n",
       "  <thead>\n",
       "    <tr style=\"text-align: right;\">\n",
       "      <th></th>\n",
       "      <th>date</th>\n",
       "      <th>time</th>\n",
       "      <th>test</th>\n",
       "      <th>negative</th>\n",
       "      <th>confirmed</th>\n",
       "      <th>released</th>\n",
       "      <th>deceased</th>\n",
       "    </tr>\n",
       "  </thead>\n",
       "  <tbody>\n",
       "    <tr>\n",
       "      <td>0</td>\n",
       "      <td>2020-01-20</td>\n",
       "      <td>16</td>\n",
       "      <td>1</td>\n",
       "      <td>0</td>\n",
       "      <td>1</td>\n",
       "      <td>0</td>\n",
       "      <td>0</td>\n",
       "    </tr>\n",
       "    <tr>\n",
       "      <td>1</td>\n",
       "      <td>2020-01-21</td>\n",
       "      <td>16</td>\n",
       "      <td>1</td>\n",
       "      <td>0</td>\n",
       "      <td>1</td>\n",
       "      <td>0</td>\n",
       "      <td>0</td>\n",
       "    </tr>\n",
       "    <tr>\n",
       "      <td>2</td>\n",
       "      <td>2020-01-22</td>\n",
       "      <td>16</td>\n",
       "      <td>4</td>\n",
       "      <td>3</td>\n",
       "      <td>1</td>\n",
       "      <td>0</td>\n",
       "      <td>0</td>\n",
       "    </tr>\n",
       "    <tr>\n",
       "      <td>3</td>\n",
       "      <td>2020-01-23</td>\n",
       "      <td>16</td>\n",
       "      <td>22</td>\n",
       "      <td>21</td>\n",
       "      <td>1</td>\n",
       "      <td>0</td>\n",
       "      <td>0</td>\n",
       "    </tr>\n",
       "    <tr>\n",
       "      <td>4</td>\n",
       "      <td>2020-01-24</td>\n",
       "      <td>16</td>\n",
       "      <td>27</td>\n",
       "      <td>25</td>\n",
       "      <td>2</td>\n",
       "      <td>0</td>\n",
       "      <td>0</td>\n",
       "    </tr>\n",
       "    <tr>\n",
       "      <td>...</td>\n",
       "      <td>...</td>\n",
       "      <td>...</td>\n",
       "      <td>...</td>\n",
       "      <td>...</td>\n",
       "      <td>...</td>\n",
       "      <td>...</td>\n",
       "      <td>...</td>\n",
       "    </tr>\n",
       "    <tr>\n",
       "      <td>158</td>\n",
       "      <td>2020-06-26</td>\n",
       "      <td>0</td>\n",
       "      <td>1232315</td>\n",
       "      <td>1200885</td>\n",
       "      <td>12602</td>\n",
       "      <td>11172</td>\n",
       "      <td>282</td>\n",
       "    </tr>\n",
       "    <tr>\n",
       "      <td>159</td>\n",
       "      <td>2020-06-27</td>\n",
       "      <td>0</td>\n",
       "      <td>1243780</td>\n",
       "      <td>1211261</td>\n",
       "      <td>12653</td>\n",
       "      <td>11317</td>\n",
       "      <td>282</td>\n",
       "    </tr>\n",
       "    <tr>\n",
       "      <td>160</td>\n",
       "      <td>2020-06-28</td>\n",
       "      <td>0</td>\n",
       "      <td>1251695</td>\n",
       "      <td>1219975</td>\n",
       "      <td>12715</td>\n",
       "      <td>11364</td>\n",
       "      <td>282</td>\n",
       "    </tr>\n",
       "    <tr>\n",
       "      <td>161</td>\n",
       "      <td>2020-06-29</td>\n",
       "      <td>0</td>\n",
       "      <td>1259954</td>\n",
       "      <td>1228698</td>\n",
       "      <td>12757</td>\n",
       "      <td>11429</td>\n",
       "      <td>282</td>\n",
       "    </tr>\n",
       "    <tr>\n",
       "      <td>162</td>\n",
       "      <td>2020-06-30</td>\n",
       "      <td>0</td>\n",
       "      <td>1273766</td>\n",
       "      <td>1240157</td>\n",
       "      <td>12800</td>\n",
       "      <td>11537</td>\n",
       "      <td>282</td>\n",
       "    </tr>\n",
       "  </tbody>\n",
       "</table>\n",
       "<p>163 rows × 7 columns</p>\n",
       "</div>"
      ],
      "text/plain": [
       "           date  time     test  negative  confirmed  released  deceased\n",
       "0    2020-01-20    16        1         0          1         0         0\n",
       "1    2020-01-21    16        1         0          1         0         0\n",
       "2    2020-01-22    16        4         3          1         0         0\n",
       "3    2020-01-23    16       22        21          1         0         0\n",
       "4    2020-01-24    16       27        25          2         0         0\n",
       "..          ...   ...      ...       ...        ...       ...       ...\n",
       "158  2020-06-26     0  1232315   1200885      12602     11172       282\n",
       "159  2020-06-27     0  1243780   1211261      12653     11317       282\n",
       "160  2020-06-28     0  1251695   1219975      12715     11364       282\n",
       "161  2020-06-29     0  1259954   1228698      12757     11429       282\n",
       "162  2020-06-30     0  1273766   1240157      12800     11537       282\n",
       "\n",
       "[163 rows x 7 columns]"
      ]
     },
     "execution_count": 7,
     "metadata": {},
     "output_type": "execute_result"
    }
   ],
   "source": [
    "print(time.shape)\n",
    "time"
   ]
  },
  {
   "cell_type": "markdown",
   "metadata": {},
   "source": [
    "## 1) Case Data\n",
    "Case: Data of COVID-19 infection cases in South Korea\n",
    "\n",
    "## 2) Patient Data\n",
    "PatientInfo: Epidemiological data of COVID-19 patients in South Korea\n",
    "\n",
    "## 3) Time Series Data\n",
    "Time: Time series data of COVID-19 status in South Korea  \n",
    "\n",
    "TimeAge: Time series data of COVID-19 status in terms of the age in South Korea\n",
    "\n",
    "TimeGender: Time series data of COVID-19 status in terms of gender in South Korea\n",
    "\n",
    "TimeProvince: Time series data of COVID-19 status in terms of the Province in South Korea\n",
    "\n",
    "## 4) Additional Data\n",
    "Region: Location and statistical data of the regions in South Korea\n",
    "\n",
    "Weather: Data of the weather in the regions of South Korea\n",
    "\n",
    "SearchTrend: Trend data of the keywords searched in NAVER which is one of the largest portals in South Korea\n",
    "\n",
    "SeoulFloating: Data of floating population in Seoul, South Korea (from SK Telecom Big Data Hub)\n",
    "\n",
    "Policy: Data of the government policy for COVID-19 in South Korea"
   ]
  },
  {
   "cell_type": "markdown",
   "metadata": {},
   "source": [
    "# 2. Data Exploration"
   ]
  },
  {
   "cell_type": "code",
   "execution_count": 8,
   "metadata": {},
   "outputs": [
    {
     "name": "stdout",
     "output_type": "stream",
     "text": [
      "(5165, 14) 5164\n"
     ]
    },
    {
     "data": {
      "text/html": [
       "<div>\n",
       "<style scoped>\n",
       "    .dataframe tbody tr th:only-of-type {\n",
       "        vertical-align: middle;\n",
       "    }\n",
       "\n",
       "    .dataframe tbody tr th {\n",
       "        vertical-align: top;\n",
       "    }\n",
       "\n",
       "    .dataframe thead th {\n",
       "        text-align: right;\n",
       "    }\n",
       "</style>\n",
       "<table border=\"1\" class=\"dataframe\">\n",
       "  <thead>\n",
       "    <tr style=\"text-align: right;\">\n",
       "      <th></th>\n",
       "      <th>patient_id</th>\n",
       "      <th>sex</th>\n",
       "      <th>age</th>\n",
       "      <th>country</th>\n",
       "      <th>province</th>\n",
       "      <th>city</th>\n",
       "      <th>infection_case</th>\n",
       "      <th>infected_by</th>\n",
       "      <th>contact_number</th>\n",
       "      <th>symptom_onset_date</th>\n",
       "      <th>confirmed_date</th>\n",
       "      <th>released_date</th>\n",
       "      <th>deceased_date</th>\n",
       "      <th>state</th>\n",
       "    </tr>\n",
       "  </thead>\n",
       "  <tbody>\n",
       "    <tr>\n",
       "      <td>0</td>\n",
       "      <td>1000000001</td>\n",
       "      <td>male</td>\n",
       "      <td>50s</td>\n",
       "      <td>Korea</td>\n",
       "      <td>Seoul</td>\n",
       "      <td>Gangseo-gu</td>\n",
       "      <td>overseas inflow</td>\n",
       "      <td>NaN</td>\n",
       "      <td>75</td>\n",
       "      <td>2020-01-22</td>\n",
       "      <td>2020-01-23</td>\n",
       "      <td>2020-02-05</td>\n",
       "      <td>NaN</td>\n",
       "      <td>released</td>\n",
       "    </tr>\n",
       "    <tr>\n",
       "      <td>1</td>\n",
       "      <td>1000000002</td>\n",
       "      <td>male</td>\n",
       "      <td>30s</td>\n",
       "      <td>Korea</td>\n",
       "      <td>Seoul</td>\n",
       "      <td>Jungnang-gu</td>\n",
       "      <td>overseas inflow</td>\n",
       "      <td>NaN</td>\n",
       "      <td>31</td>\n",
       "      <td>NaN</td>\n",
       "      <td>2020-01-30</td>\n",
       "      <td>2020-03-02</td>\n",
       "      <td>NaN</td>\n",
       "      <td>released</td>\n",
       "    </tr>\n",
       "    <tr>\n",
       "      <td>2</td>\n",
       "      <td>1000000003</td>\n",
       "      <td>male</td>\n",
       "      <td>50s</td>\n",
       "      <td>Korea</td>\n",
       "      <td>Seoul</td>\n",
       "      <td>Jongno-gu</td>\n",
       "      <td>contact with patient</td>\n",
       "      <td>2002000001</td>\n",
       "      <td>17</td>\n",
       "      <td>NaN</td>\n",
       "      <td>2020-01-30</td>\n",
       "      <td>2020-02-19</td>\n",
       "      <td>NaN</td>\n",
       "      <td>released</td>\n",
       "    </tr>\n",
       "    <tr>\n",
       "      <td>3</td>\n",
       "      <td>1000000004</td>\n",
       "      <td>male</td>\n",
       "      <td>20s</td>\n",
       "      <td>Korea</td>\n",
       "      <td>Seoul</td>\n",
       "      <td>Mapo-gu</td>\n",
       "      <td>overseas inflow</td>\n",
       "      <td>NaN</td>\n",
       "      <td>9</td>\n",
       "      <td>2020-01-26</td>\n",
       "      <td>2020-01-30</td>\n",
       "      <td>2020-02-15</td>\n",
       "      <td>NaN</td>\n",
       "      <td>released</td>\n",
       "    </tr>\n",
       "    <tr>\n",
       "      <td>4</td>\n",
       "      <td>1000000005</td>\n",
       "      <td>female</td>\n",
       "      <td>20s</td>\n",
       "      <td>Korea</td>\n",
       "      <td>Seoul</td>\n",
       "      <td>Seongbuk-gu</td>\n",
       "      <td>contact with patient</td>\n",
       "      <td>1000000002</td>\n",
       "      <td>2</td>\n",
       "      <td>NaN</td>\n",
       "      <td>2020-01-31</td>\n",
       "      <td>2020-02-24</td>\n",
       "      <td>NaN</td>\n",
       "      <td>released</td>\n",
       "    </tr>\n",
       "  </tbody>\n",
       "</table>\n",
       "</div>"
      ],
      "text/plain": [
       "   patient_id     sex  age country province         city  \\\n",
       "0  1000000001    male  50s   Korea    Seoul   Gangseo-gu   \n",
       "1  1000000002    male  30s   Korea    Seoul  Jungnang-gu   \n",
       "2  1000000003    male  50s   Korea    Seoul    Jongno-gu   \n",
       "3  1000000004    male  20s   Korea    Seoul      Mapo-gu   \n",
       "4  1000000005  female  20s   Korea    Seoul  Seongbuk-gu   \n",
       "\n",
       "         infection_case infected_by contact_number symptom_onset_date  \\\n",
       "0       overseas inflow         NaN             75         2020-01-22   \n",
       "1       overseas inflow         NaN             31                NaN   \n",
       "2  contact with patient  2002000001             17                NaN   \n",
       "3       overseas inflow         NaN              9         2020-01-26   \n",
       "4  contact with patient  1000000002              2                NaN   \n",
       "\n",
       "  confirmed_date released_date deceased_date     state  \n",
       "0     2020-01-23    2020-02-05           NaN  released  \n",
       "1     2020-01-30    2020-03-02           NaN  released  \n",
       "2     2020-01-30    2020-02-19           NaN  released  \n",
       "3     2020-01-30    2020-02-15           NaN  released  \n",
       "4     2020-01-31    2020-02-24           NaN  released  "
      ]
     },
     "execution_count": 8,
     "metadata": {},
     "output_type": "execute_result"
    }
   ],
   "source": [
    "print(patientinfo.shape, len(patientinfo.patient_id.unique()))\n",
    "patientinfo.head()"
   ]
  },
  {
   "cell_type": "code",
   "execution_count": 9,
   "metadata": {},
   "outputs": [
    {
     "data": {
      "text/plain": [
       "1200012238    2\n",
       "2000001021    1\n",
       "6002000022    1\n",
       "1000000276    1\n",
       "5100000023    1\n",
       "1000000280    1\n",
       "4000000031    1\n",
       "1000000284    1\n",
       "1000000288    1\n",
       "2000000442    1\n",
       "Name: patient_id, dtype: int64"
      ]
     },
     "execution_count": 9,
     "metadata": {},
     "output_type": "execute_result"
    }
   ],
   "source": [
    "# One of the patient_id is not unique\n",
    "patientinfo['patient_id'].value_counts()[:10]"
   ]
  },
  {
   "cell_type": "code",
   "execution_count": 10,
   "metadata": {},
   "outputs": [
    {
     "data": {
      "text/html": [
       "<div>\n",
       "<style scoped>\n",
       "    .dataframe tbody tr th:only-of-type {\n",
       "        vertical-align: middle;\n",
       "    }\n",
       "\n",
       "    .dataframe tbody tr th {\n",
       "        vertical-align: top;\n",
       "    }\n",
       "\n",
       "    .dataframe thead th {\n",
       "        text-align: right;\n",
       "    }\n",
       "</style>\n",
       "<table border=\"1\" class=\"dataframe\">\n",
       "  <thead>\n",
       "    <tr style=\"text-align: right;\">\n",
       "      <th></th>\n",
       "      <th>patient_id</th>\n",
       "      <th>sex</th>\n",
       "      <th>age</th>\n",
       "      <th>country</th>\n",
       "      <th>province</th>\n",
       "      <th>city</th>\n",
       "      <th>infection_case</th>\n",
       "      <th>infected_by</th>\n",
       "      <th>contact_number</th>\n",
       "      <th>symptom_onset_date</th>\n",
       "      <th>confirmed_date</th>\n",
       "      <th>released_date</th>\n",
       "      <th>deceased_date</th>\n",
       "      <th>state</th>\n",
       "    </tr>\n",
       "  </thead>\n",
       "  <tbody>\n",
       "    <tr>\n",
       "      <td>1547</td>\n",
       "      <td>1200012238</td>\n",
       "      <td>female</td>\n",
       "      <td>20s</td>\n",
       "      <td>Korea</td>\n",
       "      <td>Daegu</td>\n",
       "      <td>Icheon-dong</td>\n",
       "      <td>overseas inflow</td>\n",
       "      <td>NaN</td>\n",
       "      <td>NaN</td>\n",
       "      <td>NaN</td>\n",
       "      <td>2020-06-17</td>\n",
       "      <td>NaN</td>\n",
       "      <td>NaN</td>\n",
       "      <td>isolated</td>\n",
       "    </tr>\n",
       "    <tr>\n",
       "      <td>1555</td>\n",
       "      <td>1200012238</td>\n",
       "      <td>female</td>\n",
       "      <td>20s</td>\n",
       "      <td>Korea</td>\n",
       "      <td>Daegu</td>\n",
       "      <td>Nam-gu</td>\n",
       "      <td>overseas inflow</td>\n",
       "      <td>NaN</td>\n",
       "      <td>NaN</td>\n",
       "      <td>NaN</td>\n",
       "      <td>2020-06-17</td>\n",
       "      <td>NaN</td>\n",
       "      <td>NaN</td>\n",
       "      <td>isolated</td>\n",
       "    </tr>\n",
       "  </tbody>\n",
       "</table>\n",
       "</div>"
      ],
      "text/plain": [
       "      patient_id     sex  age country province         city   infection_case  \\\n",
       "1547  1200012238  female  20s   Korea    Daegu  Icheon-dong  overseas inflow   \n",
       "1555  1200012238  female  20s   Korea    Daegu       Nam-gu  overseas inflow   \n",
       "\n",
       "     infected_by contact_number symptom_onset_date confirmed_date  \\\n",
       "1547         NaN            NaN                NaN     2020-06-17   \n",
       "1555         NaN            NaN                NaN     2020-06-17   \n",
       "\n",
       "     released_date deceased_date     state  \n",
       "1547           NaN           NaN  isolated  \n",
       "1555           NaN           NaN  isolated  "
      ]
     },
     "execution_count": 10,
     "metadata": {},
     "output_type": "execute_result"
    }
   ],
   "source": [
    "patientinfo[patientinfo['patient_id'] == 1200012238]"
   ]
  },
  {
   "cell_type": "code",
   "execution_count": 11,
   "metadata": {},
   "outputs": [],
   "source": [
    "# Since Icheon-dong belongs to Nam-gu, eliminate Icheon-dong \n",
    "patientinfo = patientinfo.drop(1547, 0)"
   ]
  },
  {
   "cell_type": "code",
   "execution_count": 12,
   "metadata": {},
   "outputs": [
    {
     "name": "stdout",
     "output_type": "stream",
     "text": [
      "(5164, 14) 5164\n"
     ]
    }
   ],
   "source": [
    "print(patientinfo.shape, len(patientinfo.patient_id.unique()))"
   ]
  },
  {
   "cell_type": "markdown",
   "metadata": {},
   "source": [
    "## (1) Infection Route 감염 경로"
   ]
  },
  {
   "cell_type": "code",
   "execution_count": 13,
   "metadata": {},
   "outputs": [
    {
     "data": {
      "text/plain": [
       "Index([' case_id', 'province', 'city', 'group', 'infection_case', 'confirmed',\n",
       "       'latitude', 'longitude'],\n",
       "      dtype='object')"
      ]
     },
     "execution_count": 13,
     "metadata": {},
     "output_type": "execute_result"
    }
   ],
   "source": [
    "case.columns"
   ]
  },
  {
   "cell_type": "code",
   "execution_count": 14,
   "metadata": {},
   "outputs": [],
   "source": [
    "case.rename(columns = {' case_id':'case_id'}, inplace = True)"
   ]
  },
  {
   "cell_type": "code",
   "execution_count": 15,
   "metadata": {},
   "outputs": [
    {
     "data": {
      "text/plain": [
       "Index(['case_id', 'province', 'city', 'group', 'infection_case', 'confirmed',\n",
       "       'latitude', 'longitude'],\n",
       "      dtype='object')"
      ]
     },
     "execution_count": 15,
     "metadata": {},
     "output_type": "execute_result"
    }
   ],
   "source": [
    "case.columns"
   ]
  },
  {
   "cell_type": "code",
   "execution_count": 16,
   "metadata": {},
   "outputs": [
    {
     "name": "stdout",
     "output_type": "stream",
     "text": [
      "types of infection case :  52\n"
     ]
    },
    {
     "data": {
      "text/plain": [
       "contact with patient                             1610\n",
       "overseas inflow                                   839\n",
       "etc                                               703\n",
       "Itaewon Clubs                                     162\n",
       "Richway                                           128\n",
       "Guro-gu Call Center                               112\n",
       "Shincheonji Church                                107\n",
       "Coupang Logistics Center                           80\n",
       "Yangcheon Table Tennis Club                        44\n",
       "Day Care Center                                    43\n",
       "SMR Newly Planted Churches Group                   36\n",
       "Onchun Church                                      33\n",
       "Bonghwa Pureun Nursing Home                        31\n",
       "gym facility in Cheonan                            30\n",
       "Ministry of Oceans and Fisheries                   28\n",
       "Wangsung Church                                    24\n",
       "Cheongdo Daenam Hospital                           21\n",
       "Dongan Church                                      17\n",
       "Eunpyeong St. Mary's Hospital                      16\n",
       "Gyeongsan Seorin Nursing Home                      15\n",
       "Seongdong-gu APT                                   13\n",
       "Dunsan Electronics Town                            13\n",
       "KB Life Insurance                                  13\n",
       "Gyeongsan Jeil Silver Town                         12\n",
       "Milal Shelter                                      11\n",
       "Gyeongsan Cham Joeun Community Center              10\n",
       "Korea Campus Crusade of Christ                      7\n",
       "Samsung Medical Center                              7\n",
       "Orange Town                                         7\n",
       "Gangnam Yeoksam-dong gathering                      6\n",
       "Geochang Church                                     6\n",
       "Geumcheon-gu rice milling machine manufacture       6\n",
       "Guri Collective Infection                           5\n",
       "Yeonana News Class                                  5\n",
       "Seocho Family                                       5\n",
       "Changnyeong Coin Karaoke                            4\n",
       "Yongin Brothers                                     4\n",
       "gym facility in Sejong                              4\n",
       "Samsung Fire & Marine Insurance                     4\n",
       "Yeongdeungpo Learning Institute                     3\n",
       "Seoul City Hall Station safety worker               3\n",
       "Biblical Language study meeting                     3\n",
       "Daezayeon Korea                                     3\n",
       "Suyeong-gu Kindergarten                             3\n",
       "Pilgrimage to Israel                                2\n",
       "Uiwang Logistics Center                             2\n",
       "Daejeon door-to-door sales                          1\n",
       "Gangnam Dongin Church                               1\n",
       "Orange Life                                         1\n",
       "River of Grace Community Church                     1\n",
       "Anyang Gunpo Pastors Group                          1\n",
       "Name: infection_case, dtype: int64"
      ]
     },
     "execution_count": 16,
     "metadata": {},
     "output_type": "execute_result"
    }
   ],
   "source": [
    "print('types of infection case : ', len(patientinfo['infection_case'].unique()))\n",
    "\n",
    "patientinfo['infection_case'].value_counts()\n",
    "\n",
    "# 감영 경로가 다양해보임"
   ]
  },
  {
   "cell_type": "code",
   "execution_count": 17,
   "metadata": {},
   "outputs": [],
   "source": [
    "type_infection = patientinfo.groupby(['infection_case'])['patient_id'].count()\n",
    "type_infection = type_infection.reset_index()\n",
    "type_infection.rename(columns = {'patient_id': 'count'}, inplace = True)\n",
    "\n",
    "\n",
    "type_infection = type_infection.sort_values('count', ascending = False)"
   ]
  },
  {
   "cell_type": "code",
   "execution_count": 18,
   "metadata": {},
   "outputs": [
    {
     "data": {
      "text/html": [
       "<div>\n",
       "<style scoped>\n",
       "    .dataframe tbody tr th:only-of-type {\n",
       "        vertical-align: middle;\n",
       "    }\n",
       "\n",
       "    .dataframe tbody tr th {\n",
       "        vertical-align: top;\n",
       "    }\n",
       "\n",
       "    .dataframe thead th {\n",
       "        text-align: right;\n",
       "    }\n",
       "</style>\n",
       "<table border=\"1\" class=\"dataframe\">\n",
       "  <thead>\n",
       "    <tr style=\"text-align: right;\">\n",
       "      <th></th>\n",
       "      <th>infection_case</th>\n",
       "      <th>count</th>\n",
       "    </tr>\n",
       "  </thead>\n",
       "  <tbody>\n",
       "    <tr>\n",
       "      <td>46</td>\n",
       "      <td>contact with patient</td>\n",
       "      <td>1610</td>\n",
       "    </tr>\n",
       "    <tr>\n",
       "      <td>50</td>\n",
       "      <td>overseas inflow</td>\n",
       "      <td>839</td>\n",
       "    </tr>\n",
       "    <tr>\n",
       "      <td>47</td>\n",
       "      <td>etc</td>\n",
       "      <td>703</td>\n",
       "    </tr>\n",
       "  </tbody>\n",
       "</table>\n",
       "</div>"
      ],
      "text/plain": [
       "          infection_case  count\n",
       "46  contact with patient   1610\n",
       "50       overseas inflow    839\n",
       "47                   etc    703"
      ]
     },
     "execution_count": 18,
     "metadata": {},
     "output_type": "execute_result"
    }
   ],
   "source": [
    "type_infection[:3]"
   ]
  },
  {
   "cell_type": "code",
   "execution_count": 19,
   "metadata": {},
   "outputs": [
    {
     "data": {
      "text/html": [
       "<div>\n",
       "<style scoped>\n",
       "    .dataframe tbody tr th:only-of-type {\n",
       "        vertical-align: middle;\n",
       "    }\n",
       "\n",
       "    .dataframe tbody tr th {\n",
       "        vertical-align: top;\n",
       "    }\n",
       "\n",
       "    .dataframe thead th {\n",
       "        text-align: right;\n",
       "    }\n",
       "</style>\n",
       "<table border=\"1\" class=\"dataframe\">\n",
       "  <thead>\n",
       "    <tr style=\"text-align: right;\">\n",
       "      <th></th>\n",
       "      <th>count</th>\n",
       "    </tr>\n",
       "  </thead>\n",
       "  <tbody>\n",
       "    <tr>\n",
       "      <td>count</td>\n",
       "      <td>51.000000</td>\n",
       "    </tr>\n",
       "    <tr>\n",
       "      <td>mean</td>\n",
       "      <td>83.235294</td>\n",
       "    </tr>\n",
       "    <tr>\n",
       "      <td>std</td>\n",
       "      <td>265.399441</td>\n",
       "    </tr>\n",
       "    <tr>\n",
       "      <td>min</td>\n",
       "      <td>1.000000</td>\n",
       "    </tr>\n",
       "    <tr>\n",
       "      <td>25%</td>\n",
       "      <td>4.000000</td>\n",
       "    </tr>\n",
       "    <tr>\n",
       "      <td>50%</td>\n",
       "      <td>10.000000</td>\n",
       "    </tr>\n",
       "    <tr>\n",
       "      <td>75%</td>\n",
       "      <td>30.500000</td>\n",
       "    </tr>\n",
       "    <tr>\n",
       "      <td>max</td>\n",
       "      <td>1610.000000</td>\n",
       "    </tr>\n",
       "  </tbody>\n",
       "</table>\n",
       "</div>"
      ],
      "text/plain": [
       "             count\n",
       "count    51.000000\n",
       "mean     83.235294\n",
       "std     265.399441\n",
       "min       1.000000\n",
       "25%       4.000000\n",
       "50%      10.000000\n",
       "75%      30.500000\n",
       "max    1610.000000"
      ]
     },
     "execution_count": 19,
     "metadata": {},
     "output_type": "execute_result"
    }
   ],
   "source": [
    "type_infection.describe()"
   ]
  },
  {
   "cell_type": "code",
   "execution_count": 20,
   "metadata": {},
   "outputs": [
    {
     "data": {
      "image/png": "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\n",
      "text/plain": [
       "<Figure size 1440x720 with 1 Axes>"
      ]
     },
     "metadata": {
      "needs_background": "light"
     },
     "output_type": "display_data"
    }
   ],
   "source": [
    "plt.figure(figsize = (20,10))\n",
    "plt.title('감염경로 (Infection Route)', position=(0.35, 2),fontsize = 20, pad = 25 )\n",
    "sns.barplot(y = 'infection_case', x = 'count', data = type_infection)\n",
    "plt.tick_params(labelsize=10)\n",
    "display()\n",
    "\n",
    "\n",
    "# 해외 유입, 기타, 환자 접촉, 신천지가 독보적으로 많은 영향을 끼쳤고, 나머지는 별로 많지 않다. \n",
    "# 별로 많지 않은 데이터 중 어디까지를 집단감염이라고 생각해야될까?"
   ]
  },
  {
   "cell_type": "markdown",
   "metadata": {},
   "source": [
    "## (2) Patient Distribution 감염자 분포 확인"
   ]
  },
  {
   "cell_type": "code",
   "execution_count": 21,
   "metadata": {},
   "outputs": [
    {
     "name": "stdout",
     "output_type": "stream",
     "text": [
      "(5164, 14)\n"
     ]
    },
    {
     "data": {
      "text/html": [
       "<div>\n",
       "<style scoped>\n",
       "    .dataframe tbody tr th:only-of-type {\n",
       "        vertical-align: middle;\n",
       "    }\n",
       "\n",
       "    .dataframe tbody tr th {\n",
       "        vertical-align: top;\n",
       "    }\n",
       "\n",
       "    .dataframe thead th {\n",
       "        text-align: right;\n",
       "    }\n",
       "</style>\n",
       "<table border=\"1\" class=\"dataframe\">\n",
       "  <thead>\n",
       "    <tr style=\"text-align: right;\">\n",
       "      <th></th>\n",
       "      <th>patient_id</th>\n",
       "      <th>sex</th>\n",
       "      <th>age</th>\n",
       "      <th>country</th>\n",
       "      <th>province</th>\n",
       "      <th>city</th>\n",
       "      <th>infection_case</th>\n",
       "      <th>infected_by</th>\n",
       "      <th>contact_number</th>\n",
       "      <th>symptom_onset_date</th>\n",
       "      <th>confirmed_date</th>\n",
       "      <th>released_date</th>\n",
       "      <th>deceased_date</th>\n",
       "      <th>state</th>\n",
       "    </tr>\n",
       "  </thead>\n",
       "  <tbody>\n",
       "    <tr>\n",
       "      <td>0</td>\n",
       "      <td>1000000001</td>\n",
       "      <td>male</td>\n",
       "      <td>50s</td>\n",
       "      <td>Korea</td>\n",
       "      <td>Seoul</td>\n",
       "      <td>Gangseo-gu</td>\n",
       "      <td>overseas inflow</td>\n",
       "      <td>NaN</td>\n",
       "      <td>75</td>\n",
       "      <td>2020-01-22</td>\n",
       "      <td>2020-01-23</td>\n",
       "      <td>2020-02-05</td>\n",
       "      <td>NaN</td>\n",
       "      <td>released</td>\n",
       "    </tr>\n",
       "    <tr>\n",
       "      <td>1</td>\n",
       "      <td>1000000002</td>\n",
       "      <td>male</td>\n",
       "      <td>30s</td>\n",
       "      <td>Korea</td>\n",
       "      <td>Seoul</td>\n",
       "      <td>Jungnang-gu</td>\n",
       "      <td>overseas inflow</td>\n",
       "      <td>NaN</td>\n",
       "      <td>31</td>\n",
       "      <td>NaN</td>\n",
       "      <td>2020-01-30</td>\n",
       "      <td>2020-03-02</td>\n",
       "      <td>NaN</td>\n",
       "      <td>released</td>\n",
       "    </tr>\n",
       "    <tr>\n",
       "      <td>2</td>\n",
       "      <td>1000000003</td>\n",
       "      <td>male</td>\n",
       "      <td>50s</td>\n",
       "      <td>Korea</td>\n",
       "      <td>Seoul</td>\n",
       "      <td>Jongno-gu</td>\n",
       "      <td>contact with patient</td>\n",
       "      <td>2002000001</td>\n",
       "      <td>17</td>\n",
       "      <td>NaN</td>\n",
       "      <td>2020-01-30</td>\n",
       "      <td>2020-02-19</td>\n",
       "      <td>NaN</td>\n",
       "      <td>released</td>\n",
       "    </tr>\n",
       "    <tr>\n",
       "      <td>3</td>\n",
       "      <td>1000000004</td>\n",
       "      <td>male</td>\n",
       "      <td>20s</td>\n",
       "      <td>Korea</td>\n",
       "      <td>Seoul</td>\n",
       "      <td>Mapo-gu</td>\n",
       "      <td>overseas inflow</td>\n",
       "      <td>NaN</td>\n",
       "      <td>9</td>\n",
       "      <td>2020-01-26</td>\n",
       "      <td>2020-01-30</td>\n",
       "      <td>2020-02-15</td>\n",
       "      <td>NaN</td>\n",
       "      <td>released</td>\n",
       "    </tr>\n",
       "    <tr>\n",
       "      <td>4</td>\n",
       "      <td>1000000005</td>\n",
       "      <td>female</td>\n",
       "      <td>20s</td>\n",
       "      <td>Korea</td>\n",
       "      <td>Seoul</td>\n",
       "      <td>Seongbuk-gu</td>\n",
       "      <td>contact with patient</td>\n",
       "      <td>1000000002</td>\n",
       "      <td>2</td>\n",
       "      <td>NaN</td>\n",
       "      <td>2020-01-31</td>\n",
       "      <td>2020-02-24</td>\n",
       "      <td>NaN</td>\n",
       "      <td>released</td>\n",
       "    </tr>\n",
       "  </tbody>\n",
       "</table>\n",
       "</div>"
      ],
      "text/plain": [
       "   patient_id     sex  age country province         city  \\\n",
       "0  1000000001    male  50s   Korea    Seoul   Gangseo-gu   \n",
       "1  1000000002    male  30s   Korea    Seoul  Jungnang-gu   \n",
       "2  1000000003    male  50s   Korea    Seoul    Jongno-gu   \n",
       "3  1000000004    male  20s   Korea    Seoul      Mapo-gu   \n",
       "4  1000000005  female  20s   Korea    Seoul  Seongbuk-gu   \n",
       "\n",
       "         infection_case infected_by contact_number symptom_onset_date  \\\n",
       "0       overseas inflow         NaN             75         2020-01-22   \n",
       "1       overseas inflow         NaN             31                NaN   \n",
       "2  contact with patient  2002000001             17                NaN   \n",
       "3       overseas inflow         NaN              9         2020-01-26   \n",
       "4  contact with patient  1000000002              2                NaN   \n",
       "\n",
       "  confirmed_date released_date deceased_date     state  \n",
       "0     2020-01-23    2020-02-05           NaN  released  \n",
       "1     2020-01-30    2020-03-02           NaN  released  \n",
       "2     2020-01-30    2020-02-19           NaN  released  \n",
       "3     2020-01-30    2020-02-15           NaN  released  \n",
       "4     2020-01-31    2020-02-24           NaN  released  "
      ]
     },
     "execution_count": 21,
     "metadata": {},
     "output_type": "execute_result"
    }
   ],
   "source": [
    "print(patientinfo.shape)\n",
    "patientinfo.head()"
   ]
  },
  {
   "cell_type": "code",
   "execution_count": 22,
   "metadata": {},
   "outputs": [
    {
     "data": {
      "image/png": "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\n",
      "text/plain": [
       "<Figure size 432x288 with 1 Axes>"
      ]
     },
     "metadata": {
      "needs_background": "light"
     },
     "output_type": "display_data"
    }
   ],
   "source": [
    "sns.countplot(x = 'sex', data = patientinfo)\n",
    "plt.title('남녀별 감염자 수 (Patient by Gender)', pad = 20)\n",
    "\n",
    "plt.show()"
   ]
  },
  {
   "cell_type": "code",
   "execution_count": 23,
   "metadata": {},
   "outputs": [
    {
     "data": {
      "image/png": "iVBORw0KGgoAAAANSUhEUgAAAtsAAAGVCAYAAAAvyj0pAAAAOXRFWHRTb2Z0d2FyZQBNYXRwbG90bGliIHZlcnNpb24zLjMuMCwgaHR0cHM6Ly9tYXRwbG90bGliLm9yZy86wFpkAAAACXBIWXMAAAsTAAALEwEAmpwYAAAscklEQVR4nO3deZhkVX3/8feHGVYNMDJDwEEYjAsiRlCiaBDRuIMSFRFREcEQtwQw0SDGqE/yU3E3GBNRkVE0alyCCiEuUVRcCOqIDJuKooyCgCxKhEHm+/vj3oaiprpnuqdvVXfN+/U89VB1zr11z6nqKT516txzU1VIkiRJmn2bjLoBkiRJ0rgybEuSJEkdMWxLkiRJHTFsS5IkSR0xbEuSJEkdMWxLkiRJHTFsSxqqJHdLsmSG+943ycIZ7LcgyQ4zOeaA5/q7JLvMcN8dkmwzg/2WJFk0k2NKkkbLsC1pViW5T5IjkxyT5EEDNvkr4B/69nlGklN7bh9I8toB+54FPLBnv02S/DLJln3P95wk/9pT9KfAF9bR7gcluX7A7fIk9+vZ9LnArgP2X5jkiCT/luR9SQ5LsqBvszcAL+jbb0G7b+8tffv9A/DXU7V/in6dnuSgmezb7n/fJO+c6f7reYzNknwryR5dHmeK4x+W5D2jOPZsSvLMJEeOuh2S7sywLWnWJHkFcA5NuL0vcHqSU5L0ftakvfX6AfCfPbfPAickWdp/iL59NwF2APpD7V2BRX3b9R/zTqrqu1W1be8N2A7YGthyqn3bsP9N4BDgXODbwNHAF5JsNln721H6nwFX9t1WJ3nqZPutryT3AJ4A3GO6+7b7LwD+heZLAkl2SnJbzxeRK5Ock+TxM3n+CVW1uqr2qaoLNuR5NsBmwOZdHiDJZ5P8pstfKKrqY8AzZ/rLi6RuTPvnWEkaJMlDgVcAe1XVz9uyV9CE0J8nubXddFvgtN59q+pi4OK+51sNbJrkTOAhbfF0gsqjk3yl55gz8WDgd8D317HdK4BrqupJEwVJ3k8zmn5dkt+1xXcF/n5im6r6PXCnLxRtwP0l8KsZtnnieRYCpwCn03xx+XJVrZzm0zwL+H5VXdk+XkjzxWVxVf2+HYF/BPDJJAdW1bfXs22XAo+qqlXTbM+0JTkZ+EpVfaTrY03Rhl2AfWn+xg+j+QLTlZOA1wFHdHgMSdNg2JY0W54B/MdE0Aaoqt8meTtwOHBgW3wCzWjx7doR7AOBTduiTYAtgFv7AuxPJzn2T/tmXmwBfAt4bft4L+Avp9OZdjT+TcDbquq2dWz+IODM3oKqWpPkM8ANVfW09jlPXY9DP6nd55zptLdXO3r6YZoR+ScDj6EZZT+6qj43jad6BfD0ySqrqoCvJjmFZnrMeoVtmpHkTde51ezYrL2N0lHAJ4DzaH7x6DJsnwm8PclOVXVFh8eRtJ6cRiJpttwVuG5A+a+Bbavqt1X1W2D1gG1eBbwE2Ke9/QnN1IVfrOexl1XV4okb8Lc0U0u2aG/TCltt0P5XmkA4aL7y59ppFBN1vwTuNWC73YHr2+kXOwFbreO4adv+jum0t2f/BUmeCXwXuBF4XFXd3AbsPwfemuTMJI8bMJ+8/7nuC2xSVT9cj0P/GFjW7veyJBclua6dT3/qxEmhSU5Icj2wM3B+kl8luUtb9+MkD+s5/rJ26sWN7XZvTc/JsUnObufIn5XkhiSrkrxjYtpOkv3aYx0GvLt9vx69jj6/KMml7TEvSPK0nrozk7y4b/tjkixfx3MuAJ4PnAp8DLh/kgcO2G6zto9XttNNvp5k7yS/7dtuz7bvv0lyRZLje+urag3w3zRfsiTNAYZtSbPlOzRTN/rnFj8ZuDnJoUkOBQadBLcV8MGqek57e25Vvbqqqg051yS5hrXnHlf73/4wvRlwd5rR8gOBh7GekuwIfI7mRMwnV9WtAzY7sJ3XfUz7+M3AYUmOSrJ1kkVJXkYz2r8zTdA6lWYqwVReQDMHfdDJevdJcmCSR06x/1eBlwN/XVWHVtX/TVRU1bnAA2hGPt9E30mqA/wZcPY6tplwL+An7f0raUL+orb8LhPHqqrXt3Phfwb8cVVtX1U3tftt3t5oA/OXgAtpptnsAewNvKbnmAW8HfgIsH27zQNpTsClqr7aHusjwIvb9+t/pujDAcBTaL7sbUvzZevjSfZp6/8deF7fPke1zz+VJwK/q6pzqup6mvMRnj9guzfRzK//s/b4rwM+Rc/5AkkW07wunwKWAPsBz01yVN9znQ1M+cVC0vAYtiXNlg/QTE07Nckfp1nF4o00Yfs8mqC5L0347LeGNjCnWY3jbkkekORg4NieEeuf9+7UTu/4BnDJRCBvQ/mrgJOr6tiqOhZ417oan2S7JK8DLmhv+1XVr9en41X1Y+BRNKPHl9GEyUcBD6qqx0zcgM9Pcfz7A6+nCVqDTnDbAzgUmGplkadW1d5V9dlJ2rm6qt5VVXtW1WsGbdNjF+CnU23QfrF4PnAk8Mb2GB+ZmErUBunlwFRfEAZ5Hs1Umr+rqt9U1a+AFwIvyZ1POP3PqvpgVd1SVdfR/Boy05VX7go8u6p+XVVrqupfgE9zx/SjTwG7J9kVIMkDgMXAF9fxvH9B8xpM+CDw7N5+tPdfABxdVSur6raq+gLwNu78/+njgK9W1TvbXywuo/kl5Li+Y17O4H9nkkbAOduSZkV7wtz+NKOPH6eZgnEOsE8bCgBIs6Tf4r7dvw68IcnfALcBN9AEhongOtVx/3Q9mvc9mmkqUzmcZuR8n3VMnaiBhc1KGuv66f7/gJv7C5PcBziDZj7vEpppKo+oqmt6NvtUVb12qidvQ+lsWQT8aJK6a9rpETcC/ws8euI9TrNM4vE0J7XuQPN3cPU0j/0wmhHg21XVRe00kp172vWdvv1+St8Jp9PwjQFfrs7kjpHym5J8muYLzxuA5wAfmWo+f5K704xWv7Sn+L9ovlw+hWYeNzR/dwtpTibu9Rma0fsJDwM+1LfNt2m+BGxWVRNTtK5jeicTS+qQYVvSrGnnZL+8vU1nv1NoVs5Yl/8BrukvTLPaw7eYfHm822hWQJl0WkRVvX2yuj5PpW+EfX1V1Yv7y5I8gubLyd9U1afbsrsBX0rypPVdsSPJKgYvX7c1cEt763dGVfVPjZgwVWBb3K6k0t+Ge9K8Dx+gWcnkEpqpDtNdw3on4NAkx/SVb0qzHONE2O7/4rKatZeBXF+Dvqj8imbEe8JympMP30gzF/yAdTzn82lGontPGv59ko+0dRNhe3vg+na+da/+cxZ2Ak5Kc9Jxr1uAu9FM4aG9P+j8CUkjYNiWNKvSXB3y2VX1jkk2WdPeJtv/AJppBHvRhIbVNOH2TOCVVXVV/z5VdTmw4xTP+TjgLcDfrUf7/xb4RwaH09CMbD+Y5qTAQW3/DwafBApNGH5mVX2m3f7FNKuzHFZVX+7pzxuTXEczrWSyMHwnVTVwRDfJWcBpVXXaoPopXM7g+fVTeR7wP+3UnYnj7zTN5wD4DfC6qjpxBvvO1KB2bk9z8uuEL9N8AXkxcG1VnT/Zk7XnLhwF7Jpk0K8htyW5e1X9guYXj7slWdA3Ur593z6/AY5q19OeyjLW8YuQpOFxzrak2bYLcOwU9W8GXjmoIslfAO+mGYV+SFVtRzNt4Aiakyi/m2S7GbRpOheEuT/w2uq7wE1724YmfE0WIHcDPjnJvtvSjGTeu2f784G9e4P2hKp6zxSjzsPwJWD/ae6zhLXneQ+64M1qpn5P/ncGx57Muo41YZ8ky/rKnkAzUg/cvtLHh2n+hj+4jud7DM3JoZtXVfpvNFObJt7flTQj0f0nNT6VO09bWt/XZX+aX4EkzQGGbUlDVVW/61mBot9TgH+pqs+0J7xRVbdW1YVV9QqaKSQP798pyR+0y6Bd1S6ddqcbzRSVM/v3m0Ropp1M5jYmD2/T2reqvl53XDBmTqmqS4DfJ9ltGrt9EzgoyT2SbJ7kRdz5y8WEK4GHtyfD3mVA/SnAnyT5pyTbwu1Xr3zENLsxcayHpbHNFNv9DPhYkh2TbJLkL4HHsfaa2KfRnMy7rlVIjgbe1zOPut+7aVclaafkvJpmicIHplnC8cnAy7jztKl/pll95KW5Y8nEeyd58MQG7Vz6J9A3513S6Bi2Jc22AhYMWAJwfXwOeEGSxyS5ff5xkl2S/APNiZX9J5FBM493SVX9YVXtMOC2tKqOH7DfpO2fon4Bk5wkuYH7zkVvopkyMeFWmpHiyfrwYZoR36/TzDd+BM3obf//a94AnEizXODERYtun1fenui5H7AncHmSG2hGanvXMr+Ztaf63Dqg7P00J2v+imaVmkFuoVlV5D3A12hGmY8EHllV/dMxdgW+MNWXpHbO/ZOAkyfbhmYpwUVp1xavqpNpXpfTgetpLih0Es1yjrTbXEjzS8HBwJXtVKNP0ZyIOuHJwNnlBW2kOSNV8+lzX9Jc107z+CZrzzft9XtgaVWtNS86yUE0c133opk6soZm6sYZwEntHNf+fe4KXEpzHspk88ELeOiA8NT/XMfTXHlyrVVDaEal19Bckv6nk7T9owye7w3NiOgzquqMqdow4HlPorkc/Oums1+770znbE+Mkn4BeM6g131jkuZCR1sAZwFvquldiXN9nv+hNH9zP6D5O9uHJvw/r6r6V12Z7DlCM/3n+e15DJLmAMO2JM1x7Umnv5+YWjPNfXcHrqqqa2d47N2Al1bVS9e58RhL8m7g2cCpdcfFjGbz+Q+muZDNPWi+GK4AXlVVX5/GcxwGbNGu7iNpjjBsS5IkSR1xzrYkSZLUEcO2JEmS1BHDtiRJktQRw7YkSZLUEcO2JEmS1BHDtiRJktQRw7YkSZLUEcO2JEmS1BHDtiRJktQRw7YkSZLUEcO2JEmS1JGFo25AlxYvXlzLli0bdTMkSZI05r7zne9cU1VL+svHOmwvW7aM8847b9TNkCRJ0phLcvmgcqeRSJIkSR0xbEuSJEkdMWxLkiRJHTFsS5IkSR0xbEuSJEkdMWxLkiRJHTFsS5IkSR0xbEuSJEkdMWxLkiRJHTFsS5IkSR0xbEuSJEkdMWxLkiRJHTFsS5IkSR1ZOOoGjMLV/3raqJuwwZa86DmjboIkSZLWwZFtSZIkqSOGbUmSJKkjhm1JkiSpI4ZtSZIkqSOGbUmSJKkjhm1JkiSpI4ZtSZIkqSOGbUmSJKkjhm1JkiSpI4ZtSZIkqSOGbUmSJKkjhm1JkiSpI4ZtSZIkqSOGbUmSJKkjhm1JkiSpI4ZtSZIkqSOGbUmSJKkjhm1JkiSpI4ZtSZIkqSOGbUmSJKkjhm1JkiSpI4ZtSZIkqSOGbUmSJKkjhm1JkiSpI4ZtSZIkqSOGbUmSJKkjhm1JkiSpI4ZtSZIkqSNDC9tJtkzyniQrk1yYZHmSrdu6rdrHF7X1R/TtuzjJZ9u67yd50rDaLUmSJM3UMEe23w9cWlX3B/YAVgFvbetOBC6rqvsBDweOSbJPz74fAD7R7nsA8M4kuwyv6ZIkSdL0DTNsPxZ4L0BVrQHeB+yTZCFNgH5DW3dDe/9wgCTbA8uqanlbf0X7PM8cYtslSZKkaRtm2P4OcGTP45cC3wD2pBnxXt1T9zVg//b+fsA5fc/VWy9JkiTNSQuHeKwXAV9Mcn9gEbAj8ETgkcAVfdteCSxt7+84oH4VsHN3TZUkSZI23DDD9s+B5cBrgduAvwZ+A2wD3NK7YVVVkgXtw7XqgZuBLQcdJMnRwNEAO+9sHpckSdLoDHMayUeBhwL3AfYCngWcBqwGNu/dMEmANe3DteqBLWgC91qq6uSq2ruq9l6yZMnstV6SJEmapqGMbCe5F/AQ4F4Tc7OTPB64FHg3sFPfLjvQTCWBZsrII/rql7blkiRJ0pw1rJHtbYErek+CrKrf0UwtWQjsmWSznu33Bc5t75/bPmaSekmSJGlOGlbYXgFsmeSoiYIkBwNb06xIcgZwfFu+DXACdywT+EPgqiQTSwEuBV5IM/9bkiRJmrOGErar6vfAgcDj2qtEXgA8G3hKVd0KHAfcL8klNCPWJ1fV2T1P8VzgsCQXAp8HXt6GcEmSJGnOGtpqJFW1ikkuRFNVN9KcMDnZvr8AntBR0yRJkqRODHM1EkmSJGmjYtiWJEmSOmLYliRJkjpi2JYkSZI6YtiWJEmSOmLYliRJkjpi2JYkSZI6YtiWJEmSOmLYliRJkjpi2JYkSZI6YtiWJEmSOmLYliRJkjpi2JYkSZI6YtiWJEmSOmLYliRJkjpi2JYkSZI6YtiWJEmSOmLYliRJkjpi2JYkSZI6YtiWJEmSOmLYliRJkjpi2JYkSZI6YtiWJEmSOmLYliRJkjpi2JYkSZI6YtiWJEmSOmLYliRJkjpi2JYkSZI6YtiWJEmSOmLYliRJkjpi2JYkSZI6YtiWJEmSOmLYliRJkjpi2JYkSZI6YtiWJEmSOmLYliRJkjpi2JYkSZI6YtiWJEmSOmLYliRJkjqycNQN0HD8+KSDRt2EDfZHf3X6qJsgSZI0LY5sS5IkSR0xbEuSJEkdMWxLkiRJHTFsS5IkSR0xbEuSJEkdMWxLkiRJHTFsS5IkSR0xbEuSJEkdMWxLkiRJHTFsS5IkSR0xbEuSJEkdMWxLkiRJHTFsS5IkSR0xbEuSJEkdMWxLkiRJHTFsS5IkSR0xbEuSJEkdGWrYTrJTkg8luSDJhUk+3pZvlWR5kouSrExyRN9+i5N8tq37fpInDbPdkiRJ0kwsHNaBkiwBPg/8XVU9ty3bvK0+Ebisqp6XZBvgK0kurqpvtfUfAD5RVcuT7AR8OcnKqrp8WO2XJEmSpmuYI9svB06tqs9OFFTVLUkWAgcAb2jLbmjvHw6QZHtgWVUtb+uvAN4LPHOIbZckSZKmbZhh+2nAqQPK9wQurarVPWVfA/Zv7+8HnNO3T2+9JEmSNCcNJWwn2QrYBnhAkq8lWZHk3UkWATsCV/TtciWwtL0/qH4VsHOXbZYkSZI21LBGthcBmwEvAA4EHgz8EvgoTQi/pXfjqipgQftwrXrgZmDLQQdKcnSS85Kcd/XVV89aByRJkqTpGlbYLmBr4KVVdUNV3Qb8P+ABwK3A5r0bJwmwpn24ur8e2IImcK99oKqTq2rvqtp7yZIls9gFSZIkaXqGFbavBa6rqmsnCqpqDfAzmikiO/VtvwPNVBJopoz01y9tyyVJkqQ5ayhhu6puAVa1y/YBkGQBzbzrFcCeSTbr2WVf4Nz2/rntYyaplyRJkuakYa5G8j7gXT2h+tXAWVV1E3AGcDxAu872CTTL+1FVPwSuSjKxFOBS4IXA8iG2XZIkSZq2YYbtk4DLgB8l+QmwK/DXbd1xwP2SXEIzYn1yVZ3ds+9zgcOSXEhzYZyXtyFckiRJmrOGdgXJdo72y9pbf92NwLOm2PcXwBO6a50kSZI0+4Y5si1JkiRtVAzbkiRJUkcM25IkSVJHDNuSJElSRwzbkiRJUkcM25IkSVJHDNuSJElSRwzbkiRJUkcM25IkSVJHDNuSJElSRwzbkiRJUkcM25IkSVJHDNuSJElSRwzbkiRJUkcM25IkSVJHDNuSJElSRwzbkiRJUkcM25IkSVJHDNuSJElSRwzbkiRJUkcWjroBUlc+d8oTR92EDXLgkf816iZIkqQN5Mi2JEmS1JH1HtlOcnBVfWKSupOq6q9mr1mSZuLtH3n8qJuwQY477L9H3QRJkmbVdEa2/2FQYZJNgcfOTnMkSZKk8bHOke0kLwCOAf4oyfkDNtkeGDjiLUmSJG3M1mcayb8DXwTOAp7cV3cbcH1V/Xa2GyZJkiTNd+sM21V1E3BTkrdW1eVDaJMkSZI0FtZ7znZVvbfLhkiSJEnjZr3DdpJdk3wuybVJbuy5/SbJL7tspCRJkjQfTeeiNqcCy4GnVdXqbpojSZIkjY/phO0lVXVKZy2RJEmSxsx01tm+Ocn2nbVEkiRJGjPTGdl+P/ClJO8FVgHVU7e6qj43qy2TJEmS5rnphO0/Ac4D9mpvvW4BDNuSJElSj/UO21V1RIftkKQZeeLpLxx1EzbIfx30b6NugiSpQ9OZsy1JkiRpGtZ7ZLtdS/suEw+BzYEFwPXA5VX1oFlvnSRJkjSPTWcayY69j5ME2B04AedrS5IkSWuZ8TSSaqwEDgf+dvaaJEmSJI2H2ZizXcBms/A8kiRJ0liZzpztA1k7VG8HHAJ8czYbJUmSJI2D6ayz/WTWDts3AsuBj85aiyRJkqQxMZ0TJP+yy4ZIkiRJ42Y6I9sk2QI4DLg/sAY4H/h4Vd3SQdskSZKkeW29T5BM8sfAhcBDgJXAJcAjgB8kuUc3zZMkSZLmr+mMbJ8EHFVVX+4pe1+SxwCnAI+d1ZZJkiRJ89x0lv67e1/QBqCqvggsm7UWSZIkSWNiWutsJ1k0oGw7mvnbkiRJknpMJ2z/M3Bmkn2SLEiyMMnDgTOA13XTPEmSJGn+ms7Sfycl+SXwFmA3mtHsi4A3VNXpHbVPkiRJmremcwXJr1TV/sAnBtR9o6oePpsNkyRJkua76UwjWTJF3bYb2A5JkiRp7EwnbG+VZPP+wiRbAlvPXpMkSZKk8TCdsP1vwPuTbDVRkGRb4EPAqbPbLEmSJGn+W++wXVUnAj8CLk1ydpJzaK4i+UPg1R21T5IkSZq3pnMFSarqtUleD9wbCPDDqrqlk5ZJkiRJ89y0wjZAVa0GVnbQFkmSJGmsTOsKkpIkSZLW30jCdpJXJrlt4vLv7RUp35Lk4vZ2fN/2WyVZnuSiJCuTHDGKdkuSJEnTMfSwnWR74M+BXwAL2uJjgUXA7sADgUclOaRntxOBy6rqfsDDgWOS7DOsNkuSJEkzMYqR7dcBbwRu6yl7HnBCVa1pT7h8NXAEQJKFwAHAGwCq6ob2/uFDbLMkSZI0bUMN20l2A/aoqk/3lC0GNquqq3o2PQ94SJIAewKXtidmTvgasH/3LZYkSZJmbtgj228CXtVXtiNwRW9BVa0BbgS2G1QPXAksHXSAJEcnOS/JeVdfffWsNFqSJEmaiaGF7ST7A1TVV/uqtgEGrdV9M7DloPqqKu6Y701f3clVtXdV7b1kyZINbLUkSZI0c9NeZ3sm2ukgJwJHDqheDWw+oHwLmsC9Vn37fGtmuZmSJEnSrBrWyPahwA+qatDFcFYBO/UWJNmEZnWSawfVAzvQTCWRJEmS5qyhjGwDOwOPTnJxT9lS4JvAO4G7JNm+qn7V1j0YWFlVa5KsAPZMslnPSZL7AucOqe2SJEnSjAxlZLuqTqyqe1bVbhM3mhHrh1XVu4CTgdcn2STJ5sA/tmVU1U3AGcDxAEm2AU4A3juMtkuSJEkzNcrLta/mjrW230hzEuRFwA+Ab1fVB3u2PQ64X5JLaEa0T66qs4fZWEmSJGm6hjWNZC1VdZ+e+7cCL5li2xuBZw2jXZIkSdJsGeXItiRJkjTWDNuSJElSRwzbkiRJUkcM25IkSVJHDNuSJElSRwzbkiRJUkcM25IkSVJHDNuSJElSRwzbkiRJUkcM25IkSVJHDNuSJElSRwzbkiRJUkcM25IkSVJHDNuSJElSRwzbkiRJUkcM25IkSVJHDNuSJElSRwzbkiRJUkcM25IkSVJHDNuSJElSRwzbkiRJUkcM25IkSVJHDNuSJElSRwzbkiRJUkcM25IkSVJHDNuSJElSRwzbkiRJUkcM25IkSVJHDNuSJElSRwzbkiRJUkcM25IkSVJHDNuSJElSRwzbkiRJUkcM25IkSVJHDNuSJElSRwzbkiRJUkcM25IkSVJHDNuSJElSRwzbkiRJUkcM25IkSVJHDNuSJElSRwzbkiRJUkcM25IkSVJHDNuSJElSRwzbkiRJUkcM25IkSVJHDNuSJElSRwzbkiRJUkcM25IkSVJHDNuSJElSRwzbkiRJUkcWjroBkqT1d8An3zPqJmywM57+l6NugiQNjSPbkiRJUkcM25IkSVJHDNuSJElSRwzbkiRJUkcM25IkSVJHhha2kxya5JtJViY5P8kzeuq2SrI8yUVt/RF9+y5O8tm27vtJnjSsdkuSJEkzNcyl/34NHFhV1ya5B3BOkhVV9UPgROCyqnpekm2AryS5uKq+1e77AeATVbU8yU7Al5OsrKrLh9h+SZIkaVqGNrJdVZ+vqmvb+z8HPgXsl2QhcADwhrbuhvb+4QBJtgeWVdXytv4K4L3AM4fVdkmSJGkmRjlne1vgBmBP4NKqWt1T9zVg//b+fsA5ffv21kuSJElz0kjCdjtV5DHAl4AdgSv6NrkSWNreH1S/Cti5yzZKkiRJG2pUI9uvB06pquuAbYBbeiurqoAF7cO16oGbgS0HPXGSo5Ocl+S8q6++enZbLUmSJE3D0MN2u5LIPsA/tUWrgc37tgmwZrJ6YAuawL2Wqjq5qvauqr2XLFkya+2WJEmSpmuoYTvJrsBJwCE9c7RXATv1bboDzVSSyeqXtuWSJEnSnDXMdba3Aj4JHFNVP+6pWgHsmWSznrJ9gXPb++e2j5mkXpIkSZqThjmy/X7g9Kr6XG9hVd0EnAEcD7efPHkCzfJ+tOtwX5VkYinApcALgeXDa7okSZI0fUMJ2+30kUOBQ5Jc0HN7S7vJccD9klxCM2J9clWd3fMUzwUOS3Ih8Hng5W0IlyRJkuasoVxBsqp+AmSK+huBZ01R/wvgCR00TZIkSerMMC/XLknStD3lE6ePugkb7DMHHzTqJkgakVFeQVKSJEkaa4ZtSZIkqSNOI5EkaY55xicvGHUTNth/PH2PUTdBmhMc2ZYkSZI6YtiWJEmSOmLYliRJkjpi2JYkSZI6YtiWJEmSOmLYliRJkjpi2JYkSZI6YtiWJEmSOmLYliRJkjpi2JYkSZI6YtiWJEmSOmLYliRJkjpi2JYkSZI6YtiWJEmSOmLYliRJkjpi2JYkSZI6YtiWJEmSOmLYliRJkjpi2JYkSZI6YtiWJEmSOmLYliRJkjpi2JYkSZI6YtiWJEmSOmLYliRJkjpi2JYkSZI6YtiWJEmSOmLYliRJkjpi2JYkSZI6YtiWJEmSOmLYliRJkjpi2JYkSZI6YtiWJEmSOmLYliRJkjpi2JYkSZI6YtiWJEmSOrJw1A2QJEn6+CevGXUTNtghT1886iZoDnJkW5IkSeqIYVuSJEnqiGFbkiRJ6ohhW5IkSeqIYVuSJEnqiKuRSJIkjcDF775q1E3YYLu9+A9H3YQ5z5FtSZIkqSOGbUmSJKkjhm1JkiSpI4ZtSZIkqSOGbUmSJKkjhm1JkiSpI4ZtSZIkqSOGbUmSJKkjhm1JkiSpI4ZtSZIkqSOGbUmSJKkj8yZsJ1mQ5C1JLm5vx4+6TZIkSdJU5k3YBo4FFgG7Aw8EHpXkkJG2SJIkSZrCfArbzwNOqKo1VXUL8GrgiNE2SZIkSZrcvAjbSRYDm1XVVT3F5wEPSZIRNUuSJEma0sJRN2A97Qhc0VtQVWuS3AhsB1wzklZJkiRpvV31jnNH3YQN8ofHPmTa+6SqOmjK7EqyL/DKqjqgr/xC4PFV9fOesqOBo9uH9wUuGVpD77CYje8LgH3eONjnjYN9Hn8bW3/BPm8sRtnnXapqSX/hfBnZXg1sPqB8C+Dm3oKqOhk4eRiNmkyS86pq71G2Ydjs88bBPm8c7PP429j6C/Z5YzEX+zwv5mwDq4CdeguSbEKzOsm1I2mRJEmStA7zImxX1SrgLkm27yl+MLCyqtaMqFmSJEnSlOZF2G6dDLw+ySZJNgf+kRFPF5nCXG1Xl+zzxsE+bxzs8/jb2PoL9nljMef6PC9OkARIsinwDuAxQIB/r6rXjLRRkiRJ0hTmTdiWJEmS5pv5NI1kzkhyaJJvJlmZ5Pwkz+ip2yrJ8iQXtfVHjLCpsyLJe5P8LMkFPbent3Vj11+AJK9M8oO2Txcm+aueurHsc6+2/7clWdQ+XpDkLUkubm/Hj7qNsyXJTkk+1P5dX5jk42352L3PSf4gyff7/i1fnGRlWz92fZ6Qxj8n+V5f+Vj2OcmWSd7T8xm2PMnWbd1Y9rnXOH9mTUiyTfs+rkzy494+Jlmc5LNt3feTPGmUbd0QM/23O5deA8P2zPwaOLCq7g8cALw1yb3buhOBy6rqfsDDgWOS7DOids6WTYGXVdUePbdPtnXj2F+ATwMPat/j/YDDkhza1o1rnwFIcyLynwO/ABa0xcfSrP6zO/BA4FFJDhlF+2ZTkiXA54GPt3/XuwPPbavH7n2uqt9U1QN7/y0Drwa+1m4ydn0GSLIQOI3mb3jTvuqx7DPwfuDS9jNsD5pVvd7a1o1rn3sdyxh+ZvX5ILCifY93Bx6e5M/bug8An+jJKe9MsstomjlzG/hvd+68BlXlbQNvNHPJj6JZt/wymkvLT9QdArx71G3cwP6dChw8oHws+zvJa/B0mg+2se8z8K/AU4GfAovbsvOBP+zZ5iHAmaNu6yz09U3AKwaUj/373NOvM4GHjXOfga2A5wDLgAs2hvcZuBrYuufxPYEfjHOf+/o/lp9ZPf3ZAfhRX9m9gc8A2wM/6Kt7xaDPurl+m+m/3bn2GjiyPTu2BW4A9qQZSVjdU/c1YH+AJJsl+XD7k8eKJC8adkNn2Z5sPP3dGrieMe9zkt2AParq0z1li2k+0K7q2fQ84CFJ0m7ztiSXtH3+x+G2eoM8jebLZL89GeP3eUKSuwPLquqbjHGfq+r/quq0AVV7MqZ9Br4DHNnz+KXANxjvPgPr/syax59XvZbRDIj0+hHwAJpfY8/pq+t9jxclOTPNNLIVSQ7qtqkzN9N/u8yx12C+XEFyzkqyDc0KKccB+wJX9G1yJbC0vf8c4NpqfvKYuDDPfLYjY97f9iesPwOOoRnt3YPx7vObgFf1la31PlfVmiQ3Atsl+WOaUbPdqqrmS5+TbAVsAzwgyWuBP6AJI69iI/jbbj2P5ida2Hj63Guc+/wi4ItJ7k/zE/yOwBOBRzK+fZ4w1WfWM5iHn1cDXAv0T4m4B03fB/1drwJ2bu8fB3yxqt4G4/Mec+e/4zn1GszHF3iueT1wSlVdR/M/7lt6K6v57WJi3mva20TdfLkgTwEnJPleku8meXWapRjHtb8AJPkP4Bqa+duvqaqfMMZ9TrI/QFV9ta9qrT63bga2ZP72eRGwGfAC4ECaC2X9EvgoY/w+9zkc+FB7f2Ppc69x7vPPgeU0UxwPovlS9RvGu88T1uczC5i3/aOqfghcm+Qlaa4/sg3wFpp+D+r/RN9hTN/jvr/jOfUaGLY3QHtm6z7AP7VFq4HN+7YJMPEmfghYlOS/k+w1tIZuuL8BHlpVewGPowklf8/49heAqnpGVW1L099XJXkEY9rntg8nAq8cUL1Wn1tb0Hx4/Q9wKfCNicA+TxTN9KCXVtUNVXUb8P9ofoa9lTF8n3sl+VNgVVX9vC0ay7/tdRjnPn8UeChwH2Av4Fk0gXuc+zxhqs+sM5mfn1eDHETz/6fvAf9Nc0LgdQzu/8TnNTSh/HFJPprkj4bU1tm2rr/jOfUaGLZnKMmuwEnAIT1zhlYBO/VtugPNTxtU1eqqeg7N1S8/luT5w2rvhqiqX1fVre39a4ATgKcwpv3tV1UX0UyvOJLx7fOhNCeTrBxQt1af25/cFtH83FxV9XLgL4A3J5kvF5u6Friuqq6dKGhHN35G8/PjOL7PvZ5PM/I5YVz/tqcyln1Oci+aEwKfWlU/qqoLgMfTzGMdyz73Wddn1nz8vFpLVV1VVUdWs8LQPsDFNPO4B73HS9ty2sGFxwMfBs5O8tghNnu2TPl3PEn9yF4Dw/YMtHM9PwkcU1U/7qlaAeyZZLOesn2Bc3v3r6qvA4fRLE00Hy2kOSF0BRtHf6EZAd2E8e3zzsCjc8eatBfTfDB9k2au+l3SLAk44cHAyt6f3tr/oR/APOlzVd0CrEpy+wdykgU0r8UKxvN9Bm7/DHsi8Kme4hWMcZ8nsYLx7PO2wBW9J49V1e9oppYsZDz7fLuqWsU6PrPm2+fVejqcZjWSc2ne016D3uPP0vT/pcNo3CxbwdR/x3PqNTBsz8z7gdOr6nO9hVV1E3AGcDzcfvLkCcB728eL2p85AO5LMz90zkuyrOf+YuDNwGlj3N+7JFna8/gBNP36t3Htc1WdWFX3rKrdJm40IwAPq6p3AScDr2/nBm5OM+p1Mtx+YYWJk63vDVw16Bhz1PuAd/V8YL8aOGtc3+ceBwOfb/sJjO/n11TGuM8rgC2THDVRkORgmkGDbzCefe438DNrnn9e3clEP9J4Ns3Jn+9p53NfleTwtn4p8ELaX7KSbNfzNPPyPV7Xv9059xrUHFhHcT7dgF1p5nquBC7oub2lrd8a+Hfgkvb2op59j6W5UMhFwFeBe4+6P+vZ5zcDP2z7+b2+Po1jf3eh+Z/VpTTr0n4VePQ493mS1+FSYFF7f1PgX9r+Xgq8rme7g2k+qC4G/pdmfv/I27+efdwEeBvN1JGf0HwQ33Xc32fgC8C+A8rHts9tH5YC390Y+tz29WNt2y+gOdH7nuPc577+D/zMms+fVwP6+J/t/6suprkOxN176u4OnAVcSJNXntZT91aaqXIX0wTWJaPuy3r0dVr/dufaa5D2oJIkSZJmmdNIJEmSpI4YtiVJkqSOGLYlSZKkjhi2JUmSpI4YtiVJkqSOGLYlSZKkjhi2JUmSpI4YtiVJkqSOGLYlaSOR5OgkFyRZmWRFkke15bsm+UqSnyb5TpJDkpzfs989knw+yY+S/CDJ40bXC0maXxaOugGSpKG5BHhwVd2S5EHAx4F70Vzq+dNV9bYkdwX+C7hrz34fBN5SVWck2QX4UpIHV9UNw+6AJM03jmxL0kaiqs6uqlva+98FtmrD832Ad7blvwVeQ/v/hyS7A7+vqjPa+suBzwOPHX4PJGn+cWRbkjYSSfYEjgMe2BYtBpYAP6yq23o2XdFz/z7AXkl6y+4KnNdZQyVpjBi2JWkjkGQH4EzgWODFVXVTkl+01av7Nu99HOCsqnpO962UpPFj2JakjcMjgC9U1ccBkmwL7ABcDdw3ycKq+n277Z8A1d6/DHjQkNsqSWPDOduStHGYCNWbJtkEeBNwPXAT8AXg7wGS3A34J+DXAFX1feB3SV4+8UTtPG9J0nowbEvSxuFs4KvA+cAF7e17NNNEXgLsmuQnwDnAWTQrl0x4KrBfkkvbJQHfPMyGS9J8lqpa91aSpLGVZFfgZ1V1W5KtgY8Cr6uqb4+4aZI07zlnW5L0NODoJLcBtwJ/b9CWpNnhyLYkSZLUEedsS5IkSR0xbEuSJEkdMWxLkiRJHTFsS5IkSR0xbEuSJEkdMWxLkiRJHfn/nakBZEnyHHcAAAAASUVORK5CYII=\n",
      "text/plain": [
       "<Figure size 864x432 with 1 Axes>"
      ]
     },
     "metadata": {
      "needs_background": "light"
     },
     "output_type": "display_data"
    }
   ],
   "source": [
    "plt.figure(figsize = (12,6))\n",
    "\n",
    "sns.countplot(x = 'age', data = patientinfo,order = patientinfo['age'].value_counts().index)\n",
    "plt.title('연령별 감염자 수 (Patient by Age)', pad = 15)\n",
    "\n",
    "plt.show()\n",
    "\n",
    "#20대가 제일 많다 -> 이동을 제일 많이 하는 연령이라서 그런듯 + 조심성 부족..."
   ]
  },
  {
   "cell_type": "code",
   "execution_count": 24,
   "metadata": {},
   "outputs": [
    {
     "data": {
      "image/png": "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\n",
      "text/plain": [
       "<Figure size 1584x432 with 1 Axes>"
      ]
     },
     "metadata": {
      "needs_background": "light"
     },
     "output_type": "display_data"
    }
   ],
   "source": [
    "plt.figure(figsize = (22,6))\n",
    "\n",
    "sns.countplot(x = 'province', data = patientinfo,order = patientinfo['province'].value_counts().index)\n",
    "plt.title('지역별 감염자 수 (Patient by Region)',pad = 15, fontsize = 20,position=(0.5, 1.5) )\n",
    "plt.tick_params(labelsize=12, rotation = -25)\n",
    "plt.show()"
   ]
  },
  {
   "cell_type": "code",
   "execution_count": 25,
   "metadata": {},
   "outputs": [
    {
     "data": {
      "text/plain": [
       "163"
      ]
     },
     "execution_count": 25,
     "metadata": {},
     "output_type": "execute_result"
    }
   ],
   "source": [
    "len(patientinfo['city'].unique())"
   ]
  },
  {
   "cell_type": "code",
   "execution_count": 26,
   "metadata": {},
   "outputs": [
    {
     "name": "stdout",
     "output_type": "stream",
     "text": [
      "(163, 7)\n"
     ]
    },
    {
     "data": {
      "text/html": [
       "<div>\n",
       "<style scoped>\n",
       "    .dataframe tbody tr th:only-of-type {\n",
 
